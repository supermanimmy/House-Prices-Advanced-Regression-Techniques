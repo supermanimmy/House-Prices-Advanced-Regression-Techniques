{
 "cells": [
  {
   "cell_type": "markdown",
   "id": "bc14ef41",
   "metadata": {},
   "source": [
    "# Prepare Features for Modeling: Standardise All Features"
   ]
  },
  {
   "cell_type": "code",
   "execution_count": 1,
   "id": "9ed2cd6a",
   "metadata": {},
   "outputs": [],
   "source": [
    "import pandas as pd\n",
    "from sklearn.preprocessing import StandardScaler\n"
   ]
  },
  {
   "cell_type": "code",
   "execution_count": 3,
   "id": "521221e3",
   "metadata": {},
   "outputs": [
    {
     "data": {
      "text/html": [
       "<div>\n",
       "<style scoped>\n",
       "    .dataframe tbody tr th:only-of-type {\n",
       "        vertical-align: middle;\n",
       "    }\n",
       "\n",
       "    .dataframe tbody tr th {\n",
       "        vertical-align: top;\n",
       "    }\n",
       "\n",
       "    .dataframe thead th {\n",
       "        text-align: right;\n",
       "    }\n",
       "</style>\n",
       "<table border=\"1\" class=\"dataframe\">\n",
       "  <thead>\n",
       "    <tr style=\"text-align: right;\">\n",
       "      <th></th>\n",
       "      <th>MSSubClass</th>\n",
       "      <th>BldgType</th>\n",
       "      <th>OverallCond</th>\n",
       "      <th>Functional</th>\n",
       "      <th>LotFrontage_clean</th>\n",
       "      <th>LotArea_clean_tr</th>\n",
       "      <th>GrLiveArea_clean</th>\n",
       "    </tr>\n",
       "  </thead>\n",
       "  <tbody>\n",
       "    <tr>\n",
       "      <th>0</th>\n",
       "      <td>10</td>\n",
       "      <td>0</td>\n",
       "      <td>6</td>\n",
       "      <td>6</td>\n",
       "      <td>60.0</td>\n",
       "      <td>6.258269</td>\n",
       "      <td>1641.0</td>\n",
       "    </tr>\n",
       "    <tr>\n",
       "      <th>1</th>\n",
       "      <td>8</td>\n",
       "      <td>0</td>\n",
       "      <td>6</td>\n",
       "      <td>6</td>\n",
       "      <td>52.0</td>\n",
       "      <td>5.741653</td>\n",
       "      <td>1573.0</td>\n",
       "    </tr>\n",
       "    <tr>\n",
       "      <th>2</th>\n",
       "      <td>12</td>\n",
       "      <td>0</td>\n",
       "      <td>4</td>\n",
       "      <td>6</td>\n",
       "      <td>0.0</td>\n",
       "      <td>6.759836</td>\n",
       "      <td>1472.0</td>\n",
       "    </tr>\n",
       "    <tr>\n",
       "      <th>3</th>\n",
       "      <td>8</td>\n",
       "      <td>0</td>\n",
       "      <td>6</td>\n",
       "      <td>4</td>\n",
       "      <td>75.0</td>\n",
       "      <td>6.598384</td>\n",
       "      <td>1750.0</td>\n",
       "    </tr>\n",
       "    <tr>\n",
       "      <th>4</th>\n",
       "      <td>9</td>\n",
       "      <td>0</td>\n",
       "      <td>4</td>\n",
       "      <td>6</td>\n",
       "      <td>68.0</td>\n",
       "      <td>6.403760</td>\n",
       "      <td>1768.0</td>\n",
       "    </tr>\n",
       "  </tbody>\n",
       "</table>\n",
       "</div>"
      ],
      "text/plain": [
       "   MSSubClass  BldgType  OverallCond  Functional  LotFrontage_clean  \\\n",
       "0          10         0            6           6               60.0   \n",
       "1           8         0            6           6               52.0   \n",
       "2          12         0            4           6                0.0   \n",
       "3           8         0            6           4               75.0   \n",
       "4           9         0            4           6               68.0   \n",
       "\n",
       "   LotArea_clean_tr  GrLiveArea_clean  \n",
       "0          6.258269            1641.0  \n",
       "1          5.741653            1573.0  \n",
       "2          6.759836            1472.0  \n",
       "3          6.598384            1750.0  \n",
       "4          6.403760            1768.0  "
      ]
     },
     "execution_count": 3,
     "metadata": {},
     "output_type": "execute_result"
    }
   ],
   "source": [
    "house_train = pd.read_csv('data/train_features.csv')\n",
    "house_val = pd.read_csv('data/val_features.csv')\n",
    "house_test = pd.read_csv('data/test_features.csv')\n",
    "\n",
    "house_train.head()"
   ]
  },
  {
   "cell_type": "markdown",
   "id": "be625cb8",
   "metadata": {},
   "source": [
    "## Standardise Features "
   ]
  },
  {
   "cell_type": "code",
   "execution_count": 5,
   "id": "33ca0e7b",
   "metadata": {},
   "outputs": [
    {
     "data": {
      "text/plain": [
       "StandardScaler()"
      ]
     },
     "execution_count": 5,
     "metadata": {},
     "output_type": "execute_result"
    }
   ],
   "source": [
    "# Fit the scaler on the training data\n",
    "scaler = StandardScaler()\n",
    "scaler.fit(house_train)"
   ]
  },
  {
   "cell_type": "code",
   "execution_count": 6,
   "id": "5040be2a",
   "metadata": {},
   "outputs": [
    {
     "data": {
      "text/html": [
       "<div>\n",
       "<style scoped>\n",
       "    .dataframe tbody tr th:only-of-type {\n",
       "        vertical-align: middle;\n",
       "    }\n",
       "\n",
       "    .dataframe tbody tr th {\n",
       "        vertical-align: top;\n",
       "    }\n",
       "\n",
       "    .dataframe thead th {\n",
       "        text-align: right;\n",
       "    }\n",
       "</style>\n",
       "<table border=\"1\" class=\"dataframe\">\n",
       "  <thead>\n",
       "    <tr style=\"text-align: right;\">\n",
       "      <th></th>\n",
       "      <th>MSSubClass</th>\n",
       "      <th>BldgType</th>\n",
       "      <th>OverallCond</th>\n",
       "      <th>Functional</th>\n",
       "      <th>LotFrontage_clean</th>\n",
       "      <th>LotArea_clean_tr</th>\n",
       "      <th>GrLiveArea_clean</th>\n",
       "    </tr>\n",
       "  </thead>\n",
       "  <tbody>\n",
       "    <tr>\n",
       "      <th>0</th>\n",
       "      <td>1.097733</td>\n",
       "      <td>-0.423932</td>\n",
       "      <td>1.297763</td>\n",
       "      <td>0.269797</td>\n",
       "      <td>0.123357</td>\n",
       "      <td>0.093005</td>\n",
       "      <td>0.255485</td>\n",
       "    </tr>\n",
       "    <tr>\n",
       "      <th>1</th>\n",
       "      <td>0.530744</td>\n",
       "      <td>-0.423932</td>\n",
       "      <td>1.297763</td>\n",
       "      <td>0.269797</td>\n",
       "      <td>-0.114603</td>\n",
       "      <td>-0.746993</td>\n",
       "      <td>0.117684</td>\n",
       "    </tr>\n",
       "    <tr>\n",
       "      <th>2</th>\n",
       "      <td>1.664723</td>\n",
       "      <td>-0.423932</td>\n",
       "      <td>-0.505314</td>\n",
       "      <td>0.269797</td>\n",
       "      <td>-1.661343</td>\n",
       "      <td>0.908532</td>\n",
       "      <td>-0.086992</td>\n",
       "    </tr>\n",
       "    <tr>\n",
       "      <th>3</th>\n",
       "      <td>0.530744</td>\n",
       "      <td>-0.423932</td>\n",
       "      <td>1.297763</td>\n",
       "      <td>-1.724655</td>\n",
       "      <td>0.569532</td>\n",
       "      <td>0.646017</td>\n",
       "      <td>0.476373</td>\n",
       "    </tr>\n",
       "    <tr>\n",
       "      <th>4</th>\n",
       "      <td>0.814239</td>\n",
       "      <td>-0.423932</td>\n",
       "      <td>-0.505314</td>\n",
       "      <td>0.269797</td>\n",
       "      <td>0.361317</td>\n",
       "      <td>0.329567</td>\n",
       "      <td>0.512849</td>\n",
       "    </tr>\n",
       "  </tbody>\n",
       "</table>\n",
       "</div>"
      ],
      "text/plain": [
       "   MSSubClass  BldgType  OverallCond  Functional  LotFrontage_clean  \\\n",
       "0    1.097733 -0.423932     1.297763    0.269797           0.123357   \n",
       "1    0.530744 -0.423932     1.297763    0.269797          -0.114603   \n",
       "2    1.664723 -0.423932    -0.505314    0.269797          -1.661343   \n",
       "3    0.530744 -0.423932     1.297763   -1.724655           0.569532   \n",
       "4    0.814239 -0.423932    -0.505314    0.269797           0.361317   \n",
       "\n",
       "   LotArea_clean_tr  GrLiveArea_clean  \n",
       "0          0.093005          0.255485  \n",
       "1         -0.746993          0.117684  \n",
       "2          0.908532         -0.086992  \n",
       "3          0.646017          0.476373  \n",
       "4          0.329567          0.512849  "
      ]
     },
     "execution_count": 6,
     "metadata": {},
     "output_type": "execute_result"
    }
   ],
   "source": [
    "# Scale the training, test and validation sets\n",
    "features = house_train.columns\n",
    "\n",
    "house_train[features] = scaler.transform(house_train[features])\n",
    "house_val[features] = scaler.transform(house_val[features])\n",
    "house_test[features] = scaler.transform(house_test[features])\n",
    "\n",
    "house_train.head()"
   ]
  },
  {
   "cell_type": "markdown",
   "id": "8c501d24",
   "metadata": {},
   "source": [
    "## In this case , we will not need the scaled data as we will be using random forest."
   ]
  },
  {
   "cell_type": "code",
   "execution_count": null,
   "id": "97a88d1b",
   "metadata": {},
   "outputs": [],
   "source": []
  }
 ],
 "metadata": {
  "kernelspec": {
   "display_name": "Python 3 (ipykernel)",
   "language": "python",
   "name": "python3"
  },
  "language_info": {
   "codemirror_mode": {
    "name": "ipython",
    "version": 3
   },
   "file_extension": ".py",
   "mimetype": "text/x-python",
   "name": "python",
   "nbconvert_exporter": "python",
   "pygments_lexer": "ipython3",
   "version": "3.8.3"
  }
 },
 "nbformat": 4,
 "nbformat_minor": 5
}
