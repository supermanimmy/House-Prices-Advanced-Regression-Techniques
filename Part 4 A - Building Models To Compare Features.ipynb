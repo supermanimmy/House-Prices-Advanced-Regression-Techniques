{
 "cells": [
  {
   "cell_type": "code",
   "execution_count": 22,
   "id": "0d6d0a79",
   "metadata": {},
   "outputs": [],
   "source": [
    "import joblib\n",
    "import matplotlib.pyplot as plt\n",
    "import numpy as np\n",
    "import pandas as pd\n",
    "import seaborn as sns\n",
    "from sklearn.ensemble import RandomForestClassifier\n",
    "from sklearn.model_selection import GridSearchCV\n",
    "%matplotlib inline"
   ]
  },
  {
   "cell_type": "code",
   "execution_count": 6,
   "id": "1ab857ee",
   "metadata": {},
   "outputs": [
    {
     "data": {
      "text/html": [
       "<div>\n",
       "<style scoped>\n",
       "    .dataframe tbody tr th:only-of-type {\n",
       "        vertical-align: middle;\n",
       "    }\n",
       "\n",
       "    .dataframe tbody tr th {\n",
       "        vertical-align: top;\n",
       "    }\n",
       "\n",
       "    .dataframe thead th {\n",
       "        text-align: right;\n",
       "    }\n",
       "</style>\n",
       "<table border=\"1\" class=\"dataframe\">\n",
       "  <thead>\n",
       "    <tr style=\"text-align: right;\">\n",
       "      <th></th>\n",
       "      <th>MSSubClass</th>\n",
       "      <th>BldgType</th>\n",
       "      <th>OverallCond</th>\n",
       "      <th>Functional</th>\n",
       "      <th>LotFrontage_clean</th>\n",
       "      <th>LotArea_clean_tr</th>\n",
       "      <th>GrLiveArea_clean</th>\n",
       "    </tr>\n",
       "  </thead>\n",
       "  <tbody>\n",
       "    <tr>\n",
       "      <th>0</th>\n",
       "      <td>10</td>\n",
       "      <td>0</td>\n",
       "      <td>6</td>\n",
       "      <td>6</td>\n",
       "      <td>60.0</td>\n",
       "      <td>6.258269</td>\n",
       "      <td>1641.0</td>\n",
       "    </tr>\n",
       "    <tr>\n",
       "      <th>1</th>\n",
       "      <td>8</td>\n",
       "      <td>0</td>\n",
       "      <td>6</td>\n",
       "      <td>6</td>\n",
       "      <td>52.0</td>\n",
       "      <td>5.741653</td>\n",
       "      <td>1573.0</td>\n",
       "    </tr>\n",
       "    <tr>\n",
       "      <th>2</th>\n",
       "      <td>12</td>\n",
       "      <td>0</td>\n",
       "      <td>4</td>\n",
       "      <td>6</td>\n",
       "      <td>0.0</td>\n",
       "      <td>6.759836</td>\n",
       "      <td>1472.0</td>\n",
       "    </tr>\n",
       "    <tr>\n",
       "      <th>3</th>\n",
       "      <td>8</td>\n",
       "      <td>0</td>\n",
       "      <td>6</td>\n",
       "      <td>4</td>\n",
       "      <td>75.0</td>\n",
       "      <td>6.598384</td>\n",
       "      <td>1750.0</td>\n",
       "    </tr>\n",
       "    <tr>\n",
       "      <th>4</th>\n",
       "      <td>9</td>\n",
       "      <td>0</td>\n",
       "      <td>4</td>\n",
       "      <td>6</td>\n",
       "      <td>68.0</td>\n",
       "      <td>6.403760</td>\n",
       "      <td>1768.0</td>\n",
       "    </tr>\n",
       "  </tbody>\n",
       "</table>\n",
       "</div>"
      ],
      "text/plain": [
       "   MSSubClass  BldgType  OverallCond  Functional  LotFrontage_clean  \\\n",
       "0          10         0            6           6               60.0   \n",
       "1           8         0            6           6               52.0   \n",
       "2          12         0            4           6                0.0   \n",
       "3           8         0            6           4               75.0   \n",
       "4           9         0            4           6               68.0   \n",
       "\n",
       "   LotArea_clean_tr  GrLiveArea_clean  \n",
       "0          6.258269            1641.0  \n",
       "1          5.741653            1573.0  \n",
       "2          6.759836            1472.0  \n",
       "3          6.598384            1750.0  \n",
       "4          6.403760            1768.0  "
      ]
     },
     "execution_count": 6,
     "metadata": {},
     "output_type": "execute_result"
    }
   ],
   "source": [
    "train_features = pd.read_csv('data/train_Features.csv')\n",
    "train_labels = pd.read_csv('data/train_labels.csv')\n",
    "train_features.head()"
   ]
  },
  {
   "cell_type": "code",
   "execution_count": 11,
   "id": "3ee5edec",
   "metadata": {},
   "outputs": [
    {
     "data": {
      "text/plain": [
       "<AxesSubplot:>"
      ]
     },
     "execution_count": 11,
     "metadata": {},
     "output_type": "execute_result"
    },
    {
     "data": {
      "image/png": "[encoded data removed]",
      "text/plain": [
       "<Figure size 432x288 with 2 Axes>"
      ]
     },
     "metadata": {
      "needs_background": "light"
     },
     "output_type": "display_data"
    }
   ],
   "source": [
    "# Generating correlation matrix heat map\n",
    "matrix = np.triu(train_features.corr())\n",
    "sns.heatmap(train_features.corr(), annot=True, fmt=' .1f', vmin=-1, vmax=1, center=0, cmap='coolwarm', mask=matrix)"
   ]
  },
  {
   "cell_type": "markdown",
   "id": "71bf084b",
   "metadata": {},
   "source": [
    "* Highest positive correlation of 0.4 between GrLiveArea and LotArea.\n"
   ]
  },
  {
   "cell_type": "markdown",
   "id": "9f887372",
   "metadata": {},
   "source": [
    "### GrdSearchCV"
   ]
  },
  {
   "cell_type": "code",
   "execution_count": 13,
   "id": "5f7042ff",
   "metadata": {},
   "outputs": [],
   "source": [
    "def print_results(results):\n",
    "    print(f'BEST PARAMS: {results.best_params_}')\n",
    "    \n",
    "    means = results.cv_results_['mean_test_score']\n",
    "    stds = results.cv_results_['std_test_score']\n",
    "    for mean, std, params in zip(means, stds, results.cv_results_['params']):\n",
    "        print(f'{round(mean,3)} (+/- { round(std*2, 3)}) for { params}')"
   ]
  },
  {
   "cell_type": "code",
   "execution_count": 20,
   "id": "7a739f1d",
   "metadata": {},
   "outputs": [
    {
     "name": "stderr",
     "output_type": "stream",
     "text": [
      "C:\\Users\\imran\\anaconda3\\lib\\site-packages\\sklearn\\model_selection\\_split.py:676: UserWarning: The least populated class in y has only 1 members, which is less than n_splits=5.\n",
      "  warnings.warn(\n"
     ]
    },
    {
     "name": "stdout",
     "output_type": "stream",
     "text": [
      "BEST PARAMS: {'max_depth': None, 'n_estimators': 128}\n",
      "0.01 (+/- 0.011) for {'max_depth': 2, 'n_estimators': 8}\n",
      "0.015 (+/- 0.009) for {'max_depth': 2, 'n_estimators': 16}\n",
      "0.013 (+/- 0.011) for {'max_depth': 2, 'n_estimators': 32}\n",
      "0.018 (+/- 0.013) for {'max_depth': 2, 'n_estimators': 64}\n",
      "0.018 (+/- 0.009) for {'max_depth': 2, 'n_estimators': 128}\n",
      "0.016 (+/- 0.009) for {'max_depth': 2, 'n_estimators': 256}\n",
      "0.019 (+/- 0.006) for {'max_depth': 2, 'n_estimators': 512}\n",
      "0.014 (+/- 0.015) for {'max_depth': 4, 'n_estimators': 8}\n",
      "0.017 (+/- 0.007) for {'max_depth': 4, 'n_estimators': 16}\n",
      "0.013 (+/- 0.013) for {'max_depth': 4, 'n_estimators': 32}\n",
      "0.018 (+/- 0.009) for {'max_depth': 4, 'n_estimators': 64}\n",
      "0.019 (+/- 0.009) for {'max_depth': 4, 'n_estimators': 128}\n",
      "0.017 (+/- 0.013) for {'max_depth': 4, 'n_estimators': 256}\n",
      "0.021 (+/- 0.014) for {'max_depth': 4, 'n_estimators': 512}\n",
      "0.013 (+/- 0.013) for {'max_depth': 8, 'n_estimators': 8}\n",
      "0.017 (+/- 0.013) for {'max_depth': 8, 'n_estimators': 16}\n",
      "0.017 (+/- 0.018) for {'max_depth': 8, 'n_estimators': 32}\n",
      "0.014 (+/- 0.012) for {'max_depth': 8, 'n_estimators': 64}\n",
      "0.018 (+/- 0.009) for {'max_depth': 8, 'n_estimators': 128}\n",
      "0.023 (+/- 0.007) for {'max_depth': 8, 'n_estimators': 256}\n",
      "0.023 (+/- 0.013) for {'max_depth': 8, 'n_estimators': 512}\n",
      "0.018 (+/- 0.009) for {'max_depth': 6, 'n_estimators': 8}\n",
      "0.011 (+/- 0.01) for {'max_depth': 6, 'n_estimators': 16}\n",
      "0.018 (+/- 0.008) for {'max_depth': 6, 'n_estimators': 32}\n",
      "0.016 (+/- 0.011) for {'max_depth': 6, 'n_estimators': 64}\n",
      "0.021 (+/- 0.019) for {'max_depth': 6, 'n_estimators': 128}\n",
      "0.021 (+/- 0.012) for {'max_depth': 6, 'n_estimators': 256}\n",
      "0.022 (+/- 0.009) for {'max_depth': 6, 'n_estimators': 512}\n",
      "0.017 (+/- 0.0) for {'max_depth': 32, 'n_estimators': 8}\n",
      "0.023 (+/- 0.012) for {'max_depth': 32, 'n_estimators': 16}\n",
      "0.025 (+/- 0.012) for {'max_depth': 32, 'n_estimators': 32}\n",
      "0.023 (+/- 0.01) for {'max_depth': 32, 'n_estimators': 64}\n",
      "0.023 (+/- 0.01) for {'max_depth': 32, 'n_estimators': 128}\n",
      "0.024 (+/- 0.011) for {'max_depth': 32, 'n_estimators': 256}\n",
      "0.025 (+/- 0.012) for {'max_depth': 32, 'n_estimators': 512}\n",
      "0.021 (+/- 0.012) for {'max_depth': None, 'n_estimators': 8}\n",
      "0.015 (+/- 0.015) for {'max_depth': None, 'n_estimators': 16}\n",
      "0.023 (+/- 0.01) for {'max_depth': None, 'n_estimators': 32}\n",
      "0.021 (+/- 0.006) for {'max_depth': None, 'n_estimators': 64}\n",
      "0.025 (+/- 0.009) for {'max_depth': None, 'n_estimators': 128}\n",
      "0.024 (+/- 0.017) for {'max_depth': None, 'n_estimators': 256}\n",
      "0.024 (+/- 0.011) for {'max_depth': None, 'n_estimators': 512}\n"
     ]
    }
   ],
   "source": [
    "# Conduct search for best params while running crosss-validation (GridSearchCV)\n",
    "\n",
    "rf = RandomForestClassifier()\n",
    "parameters = {\n",
    "    'n_estimators': [2**i for i in range(3, 10)],\n",
    "    'max_depth': [2, 4, 8, 6, 32, None]\n",
    "}\n",
    "\n",
    "cv = GridSearchCV(rf, parameters, cv=5)\n",
    "cv.fit(train_features, train_labels.values.ravel())\n",
    "\n",
    "print_results(cv)"
   ]
  },
  {
   "cell_type": "markdown",
   "id": "8e46125e",
   "metadata": {},
   "source": [
    "BEST PARAMS: {'max_depth': None, 'n_estimators': 128}\n",
    "\n",
    "* With an accuracy rate of 2.4%, this is due to the fact that our Sale Price Label isn't rounded, so it will make it extremely difficult to predict an actual exact price. "
   ]
  },
  {
   "cell_type": "markdown",
   "id": "c5e5cf83",
   "metadata": {},
   "source": [
    "### GridSearchCV with rounded SalePrice"
   ]
  },
  {
   "cell_type": "code",
   "execution_count": 39,
   "id": "24e92b11",
   "metadata": {},
   "outputs": [],
   "source": [
    "df = pd.read_csv('data/train.csv')\n",
    "df['RoundedSalePrice'] = df['SalePrice'] //10000\n",
    "train_labels_rounded = df['RoundedSalePrice'][:876].to_frame()"
   ]
  },
  {
   "cell_type": "code",
   "execution_count": 40,
   "id": "402ddb2e",
   "metadata": {},
   "outputs": [
    {
     "name": "stderr",
     "output_type": "stream",
     "text": [
      "C:\\Users\\imran\\anaconda3\\lib\\site-packages\\sklearn\\model_selection\\_split.py:676: UserWarning: The least populated class in y has only 1 members, which is less than n_splits=5.\n",
      "  warnings.warn(\n"
     ]
    },
    {
     "name": "stdout",
     "output_type": "stream",
     "text": [
      "BEST PARAMS: {'max_depth': 4, 'n_estimators': 256}\n",
      "0.065 (+/- 0.024) for {'max_depth': 2, 'n_estimators': 8}\n",
      "0.08 (+/- 0.032) for {'max_depth': 2, 'n_estimators': 16}\n",
      "0.082 (+/- 0.023) for {'max_depth': 2, 'n_estimators': 32}\n",
      "0.075 (+/- 0.015) for {'max_depth': 2, 'n_estimators': 64}\n",
      "0.078 (+/- 0.024) for {'max_depth': 2, 'n_estimators': 128}\n",
      "0.076 (+/- 0.039) for {'max_depth': 2, 'n_estimators': 256}\n",
      "0.081 (+/- 0.021) for {'max_depth': 2, 'n_estimators': 512}\n",
      "0.072 (+/- 0.025) for {'max_depth': 4, 'n_estimators': 8}\n",
      "0.065 (+/- 0.034) for {'max_depth': 4, 'n_estimators': 16}\n",
      "0.08 (+/- 0.038) for {'max_depth': 4, 'n_estimators': 32}\n",
      "0.073 (+/- 0.034) for {'max_depth': 4, 'n_estimators': 64}\n",
      "0.084 (+/- 0.027) for {'max_depth': 4, 'n_estimators': 128}\n",
      "0.089 (+/- 0.016) for {'max_depth': 4, 'n_estimators': 256}\n",
      "0.078 (+/- 0.028) for {'max_depth': 4, 'n_estimators': 512}\n",
      "0.061 (+/- 0.041) for {'max_depth': 8, 'n_estimators': 8}\n",
      "0.076 (+/- 0.031) for {'max_depth': 8, 'n_estimators': 16}\n",
      "0.064 (+/- 0.044) for {'max_depth': 8, 'n_estimators': 32}\n",
      "0.074 (+/- 0.038) for {'max_depth': 8, 'n_estimators': 64}\n",
      "0.066 (+/- 0.017) for {'max_depth': 8, 'n_estimators': 128}\n",
      "0.071 (+/- 0.021) for {'max_depth': 8, 'n_estimators': 256}\n",
      "0.075 (+/- 0.023) for {'max_depth': 8, 'n_estimators': 512}\n",
      "0.062 (+/- 0.023) for {'max_depth': 6, 'n_estimators': 8}\n",
      "0.067 (+/- 0.032) for {'max_depth': 6, 'n_estimators': 16}\n",
      "0.081 (+/- 0.029) for {'max_depth': 6, 'n_estimators': 32}\n",
      "0.081 (+/- 0.026) for {'max_depth': 6, 'n_estimators': 64}\n",
      "0.07 (+/- 0.03) for {'max_depth': 6, 'n_estimators': 128}\n",
      "0.079 (+/- 0.04) for {'max_depth': 6, 'n_estimators': 256}\n",
      "0.074 (+/- 0.025) for {'max_depth': 6, 'n_estimators': 512}\n",
      "0.049 (+/- 0.03) for {'max_depth': 32, 'n_estimators': 8}\n",
      "0.054 (+/- 0.03) for {'max_depth': 32, 'n_estimators': 16}\n",
      "0.056 (+/- 0.038) for {'max_depth': 32, 'n_estimators': 32}\n",
      "0.048 (+/- 0.025) for {'max_depth': 32, 'n_estimators': 64}\n",
      "0.057 (+/- 0.019) for {'max_depth': 32, 'n_estimators': 128}\n",
      "0.058 (+/- 0.03) for {'max_depth': 32, 'n_estimators': 256}\n",
      "0.059 (+/- 0.021) for {'max_depth': 32, 'n_estimators': 512}\n",
      "0.048 (+/- 0.027) for {'max_depth': None, 'n_estimators': 8}\n",
      "0.046 (+/- 0.031) for {'max_depth': None, 'n_estimators': 16}\n",
      "0.062 (+/- 0.04) for {'max_depth': None, 'n_estimators': 32}\n",
      "0.049 (+/- 0.024) for {'max_depth': None, 'n_estimators': 64}\n",
      "0.056 (+/- 0.028) for {'max_depth': None, 'n_estimators': 128}\n",
      "0.055 (+/- 0.029) for {'max_depth': None, 'n_estimators': 256}\n",
      "0.058 (+/- 0.035) for {'max_depth': None, 'n_estimators': 512}\n"
     ]
    }
   ],
   "source": [
    "cv.fit(train_features, train_labels_rounded.values.ravel())\n",
    "\n",
    "print_results(cv)"
   ]
  },
  {
   "cell_type": "markdown",
   "id": "dcfab14b",
   "metadata": {},
   "source": [
    " ### Feature Importance"
   ]
  },
  {
   "cell_type": "code",
   "execution_count": 24,
   "id": "fcee43b6",
   "metadata": {},
   "outputs": [
    {
     "data": {
      "image/png": "[encoded data removed]",
      "text/plain": [
       "<Figure size 432x288 with 1 Axes>"
      ]
     },
     "metadata": {
      "needs_background": "light"
     },
     "output_type": "display_data"
    }
   ],
   "source": [
    "#Generate feature importance plot\n",
    "feat_imp = cv.best_estimator_.feature_importances_\n",
    "indices = np.argsort(feat_imp)\n",
    "plt.yticks(range(len(indices)), [train_features.columns[i] for i in indices])\n",
    "plt.barh(range(len(indices)), feat_imp[indices], color='r', align='center')\n",
    "plt.show()"
   ]
  },
  {
   "cell_type": "markdown",
   "id": "909140e6",
   "metadata": {},
   "source": [
    "* GrLiveArea and LotArea are the most important features in determining price for a house.\n",
    "* Surpringsigly the OverallCond doesn't play a pivotal role in determining price compared to the other features.\n"
   ]
  },
  {
   "cell_type": "code",
   "execution_count": null,
   "id": "a6a610dd",
   "metadata": {},
   "outputs": [],
   "source": [
    "# Write out the model fit on the whole training set"
   ]
  }
 ],
 "metadata": {
  "kernelspec": {
   "display_name": "Python 3 (ipykernel)",
   "language": "python",
   "name": "python3"
  },
  "language_info": {
   "codemirror_mode": {
    "name": "ipython",
    "version": 3
   },
   "file_extension": ".py",
   "mimetype": "text/x-python",
   "name": "python",
   "nbconvert_exporter": "python",
   "pygments_lexer": "ipython3",
   "version": "3.8.3"
  }
 },
 "nbformat": 4,
 "nbformat_minor": 5
}
